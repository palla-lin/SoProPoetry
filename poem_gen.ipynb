{
 "cells": [
  {
   "cell_type": "code",
   "execution_count": 1,
   "id": "def0acbd",
   "metadata": {},
   "outputs": [],
   "source": [
    "import torch\n",
    "import torch.nn as nn\n",
    "from torch.nn import functional\n",
    "from torch.nn import Module\n",
    "import torch.optim as optim\n",
    "from torch.utils.data import Dataset, DataLoader\n",
    "from tqdm import tqdm"
   ]
  },
  {
   "cell_type": "code",
   "execution_count": 2,
   "id": "af3eac05",
   "metadata": {},
   "outputs": [],
   "source": [
    "import pickle\n",
    "PATH = \"poem_dict.obj\""
   ]
  },
  {
   "cell_type": "code",
   "execution_count": 63,
   "id": "39ae98f1",
   "metadata": {},
   "outputs": [],
   "source": [
    "\n",
    "with open(PATH,'rb') as f:\n",
    "    data = pickle.load(f)\n",
    "    allkeys = [key for key in data.keys()]\n",
    "    input_data = []\n",
    "    for tag in allkeys: \n",
    "        for poem in data[tag]:\n",
    "            p = poem.lower().split()\n",
    "            pp = \" \".join(p)\n",
    "            input_data.append(pp)"
   ]
  },
  {
   "cell_type": "code",
   "execution_count": 4,
   "id": "606f2cef",
   "metadata": {},
   "outputs": [],
   "source": [
    "import string\n",
    "\n",
    "all_characters = string.ascii_letters+ \"unk\" + \" .,;'-\" \n",
    "n_characters = len(all_characters)"
   ]
  },
  {
   "cell_type": "code",
   "execution_count": 107,
   "id": "3fa27661",
   "metadata": {
    "collapsed": true
   },
   "outputs": [
    {
     "name": "stdout",
     "output_type": "stream",
     "text": [
      "abcdefghijklmnopqrstuvwxyzABCDEFGHIJKLMNOPQRSTUVWXYZunk .,;'-\n"
     ]
    }
   ],
   "source": [
    "print(all_characters)"
   ]
  },
  {
   "cell_type": "code",
   "execution_count": 5,
   "id": "10c73120",
   "metadata": {},
   "outputs": [],
   "source": [
    "import random\n",
    "\n",
    "def char_tensor(string):\n",
    "    tensor = torch.zeros(len(string)).long()\n",
    "    for c in range(len(string)):\n",
    "        letter = string[c]\n",
    "        if letter not in all_characters:\n",
    "            letter = 'unk'\n",
    "        tensor[c] = all_characters.index(letter)\n",
    "        \n",
    "    return tensor\n",
    "    "
   ]
  },
  {
   "cell_type": "code",
   "execution_count": 106,
   "id": "c4e62286",
   "metadata": {},
   "outputs": [],
   "source": [
    " def get_batch(chunk_len):\n",
    "    poem_num = random.randint(0, len(input_data))\n",
    "    text_str = input_data[poem_num][:chunk_len+1]\n",
    "\n",
    "    text_input = char_tensor(text_str[:-1])\n",
    "    text_target = char_tensor(text_str[1:])\n",
    "    return text_input, text_target"
   ]
  },
  {
   "cell_type": "code",
   "execution_count": 108,
   "id": "62fb6bd0",
   "metadata": {},
   "outputs": [
    {
     "data": {
      "text/plain": [
       "(torch.Size([250]), torch.Size([250]))"
      ]
     },
     "execution_count": 108,
     "metadata": {},
     "output_type": "execute_result"
    }
   ],
   "source": [
    "x,y=get_batch(250)\n",
    "x.shape,y.shape"
   ]
  },
  {
   "cell_type": "code",
   "execution_count": 131,
   "id": "4908a793",
   "metadata": {},
   "outputs": [],
   "source": [
    "class PoemLSTM(nn.Module):     \n",
    "    \"\"\" \n",
    "    \"\"\"\n",
    "    def __init__(self, input_size, hidden_size, output_size, n_layers=1): \n",
    "\n",
    "        super(PoemLSTM, self).__init__()   \n",
    "        self.input_size = input_size\n",
    "        self.hidden_size = hidden_size\n",
    "        self.output_size = output_size\n",
    "        self.n_layers = n_layers\n",
    "        \n",
    "        self.embed = nn.Embedding(input_size, hidden_size)\n",
    "        self.lstm = nn.LSTM(hidden_size, hidden_size, n_layers)\n",
    "        self.fc = nn.Linear(hidden_size, output_size)\n",
    "\n",
    "    def forward(self, x):\n",
    "        emb = self.embed(x)\n",
    "#         print('emb out',emb.shape)\n",
    "        \n",
    "        lstm_in = emb.view(1, 1, -1)\n",
    "#         print(lstm_in.shape)\n",
    "#         print('in dim',lstm_in.dim())\n",
    "\n",
    "        \n",
    "        lstm_out, hn_cn = self.lstm(lstm_in)\n",
    "#         print('lst_out shape',lstm_out.shape)\n",
    "        fc_out = self.fc(lstm_out.view(1, -1))\n",
    "#         print('fc_out',fc_out.shape)\n",
    "        return fc_out, hn_cn"
   ]
  },
  {
   "cell_type": "code",
   "execution_count": 132,
   "id": "bb782bf7",
   "metadata": {},
   "outputs": [],
   "source": [
    "# Initialize Model \n",
    "\n",
    "hidden_size = 100\n",
    "n_layers = 1\n",
    "lr = 0.001\n",
    "\n",
    "\n",
    "PoemGenerator = PoemLSTM(n_characters, hidden_size, n_characters, n_layers)\n",
    "\n",
    "# Set Hyperparameter Values\n",
    "\n",
    "NUM_EPOCHS = 100 \n",
    "LEARNING_RATE = 0.001\n",
    "OPTIMIZER = optim.Adam          \n",
    "LOSS_FUNCTION = nn.functional.cross_entropy "
   ]
  },
  {
   "cell_type": "code",
   "execution_count": 127,
   "id": "a507058f",
   "metadata": {},
   "outputs": [],
   "source": [
    "def train_model(model, optimizer_type, loss_function, learning_rate):\n",
    "    \"\"\"\n",
    "    \"\"\"\n",
    "\n",
    "    model.train()\n",
    "\n",
    "    optimizer = optimizer_type(params=model.parameters(), lr=learning_rate)        \n",
    "    loss = 0\n",
    "\n",
    "    input_sent,target_sent = get_batch(250)\n",
    "\n",
    "    for c in range(250):\n",
    "        print(input_sent[c].shape)\n",
    "        output, _ = model(input_sent[c])\n",
    "        print(output.shape, target_sent[c].shape)\n",
    "        loss += loss_function(output, target_sent[c])\n",
    "\n",
    "    # zero grad\n",
    "    optimizer.zero_grad()\n",
    "\n",
    "    loss.backward()\n",
    "\n",
    "    # update parameters\n",
    "    optimizer.step()\n",
    "\n",
    "    print(f\"Training loss: {loss.item()/250}\")\n",
    "    return loss.item()/250  \n",
    "         "
   ]
  },
  {
   "cell_type": "code",
   "execution_count": 128,
   "id": "c39a5641",
   "metadata": {},
   "outputs": [],
   "source": [
    "def sample(model, start_letter = 'A',predict_len=100,temperature = 0.7):\n",
    "    \n",
    "    with torch.no_grad():\n",
    "        initial_input = char_tensor(start_letter)\n",
    "        output_text = start_letter\n",
    "        \n",
    "        print(initial_input[0])\n",
    "        \n",
    "        _, (hidden, cell) = model(initial_input[0].view(1))\n",
    "        inp_char = initial_input[-1]\n",
    "        \n",
    "        for p in range(predict_len):\n",
    "            output, (hidden, cell) = model(inp_char.view(1))\n",
    "            \n",
    "            # Sample\n",
    "            output_dist = output.data.view(-1).div(temperature).exp()\n",
    "            top_char = torch.multinomial(output_dist, 1)[0]\n",
    "            \n",
    "            # Add predicted character to string\n",
    "            predicted_char = all_characters[top_char]\n",
    "            output_text += predicted_char\n",
    "            inp_char = char_tensor(predicted_char)\n",
    "\n",
    "    return output_text"
   ]
  },
  {
   "cell_type": "code",
   "execution_count": 134,
   "id": "717406f4",
   "metadata": {},
   "outputs": [
    {
     "name": "stdout",
     "output_type": "stream",
     "text": [
      "torch.Size([])\n",
      "fc_out torch.Size([1, 61])\n",
      "torch.Size([1, 61]) torch.Size([])\n"
     ]
    },
    {
     "ename": "ValueError",
     "evalue": "Expected input batch_size (1) to match target batch_size (0).",
     "output_type": "error",
     "traceback": [
      "\u001b[0;31m---------------------------------------------------------------------------\u001b[0m",
      "\u001b[0;31mValueError\u001b[0m                                Traceback (most recent call last)",
      "\u001b[0;32m/tmp/ipykernel_59531/2052295483.py\u001b[0m in \u001b[0;36m<module>\u001b[0;34m\u001b[0m\n\u001b[1;32m      4\u001b[0m \u001b[0;32mfor\u001b[0m \u001b[0mepoch\u001b[0m \u001b[0;32min\u001b[0m \u001b[0mrange\u001b[0m\u001b[0;34m(\u001b[0m\u001b[0mNUM_EPOCHS\u001b[0m\u001b[0;34m)\u001b[0m\u001b[0;34m:\u001b[0m\u001b[0;34m\u001b[0m\u001b[0;34m\u001b[0m\u001b[0m\n\u001b[1;32m      5\u001b[0m \u001b[0;34m\u001b[0m\u001b[0m\n\u001b[0;32m----> 6\u001b[0;31m     \u001b[0mloss\u001b[0m \u001b[0;34m=\u001b[0m \u001b[0mtrain_model\u001b[0m\u001b[0;34m(\u001b[0m\u001b[0mmodel\u001b[0m\u001b[0;34m=\u001b[0m\u001b[0mPoemGenerator\u001b[0m\u001b[0;34m,\u001b[0m \u001b[0moptimizer_type\u001b[0m\u001b[0;34m=\u001b[0m\u001b[0mOPTIMIZER\u001b[0m\u001b[0;34m,\u001b[0m \u001b[0mloss_function\u001b[0m\u001b[0;34m=\u001b[0m\u001b[0mLOSS_FUNCTION\u001b[0m\u001b[0;34m,\u001b[0m \u001b[0mlearning_rate\u001b[0m\u001b[0;34m=\u001b[0m\u001b[0mLEARNING_RATE\u001b[0m\u001b[0;34m)\u001b[0m\u001b[0;34m\u001b[0m\u001b[0;34m\u001b[0m\u001b[0m\n\u001b[0m\u001b[1;32m      7\u001b[0m     \u001b[0mloss_avg\u001b[0m \u001b[0;34m+=\u001b[0m \u001b[0mloss\u001b[0m\u001b[0;34m\u001b[0m\u001b[0;34m\u001b[0m\u001b[0m\n\u001b[1;32m      8\u001b[0m \u001b[0;34m\u001b[0m\u001b[0m\n",
      "\u001b[0;32m/tmp/ipykernel_59531/3673019438.py\u001b[0m in \u001b[0;36mtrain_model\u001b[0;34m(model, optimizer_type, loss_function, learning_rate)\u001b[0m\n\u001b[1;32m     15\u001b[0m         \u001b[0moutput\u001b[0m\u001b[0;34m,\u001b[0m \u001b[0m_\u001b[0m \u001b[0;34m=\u001b[0m \u001b[0mmodel\u001b[0m\u001b[0;34m(\u001b[0m\u001b[0minput_sent\u001b[0m\u001b[0;34m[\u001b[0m\u001b[0mc\u001b[0m\u001b[0;34m]\u001b[0m\u001b[0;34m)\u001b[0m\u001b[0;34m\u001b[0m\u001b[0;34m\u001b[0m\u001b[0m\n\u001b[1;32m     16\u001b[0m         \u001b[0mprint\u001b[0m\u001b[0;34m(\u001b[0m\u001b[0moutput\u001b[0m\u001b[0;34m.\u001b[0m\u001b[0mshape\u001b[0m\u001b[0;34m,\u001b[0m \u001b[0mtarget_sent\u001b[0m\u001b[0;34m[\u001b[0m\u001b[0mc\u001b[0m\u001b[0;34m]\u001b[0m\u001b[0;34m.\u001b[0m\u001b[0mshape\u001b[0m\u001b[0;34m)\u001b[0m\u001b[0;34m\u001b[0m\u001b[0;34m\u001b[0m\u001b[0m\n\u001b[0;32m---> 17\u001b[0;31m         \u001b[0mloss\u001b[0m \u001b[0;34m+=\u001b[0m \u001b[0mloss_function\u001b[0m\u001b[0;34m(\u001b[0m\u001b[0moutput\u001b[0m\u001b[0;34m,\u001b[0m \u001b[0mtarget_sent\u001b[0m\u001b[0;34m[\u001b[0m\u001b[0mc\u001b[0m\u001b[0;34m]\u001b[0m\u001b[0;34m)\u001b[0m\u001b[0;34m\u001b[0m\u001b[0;34m\u001b[0m\u001b[0m\n\u001b[0m\u001b[1;32m     18\u001b[0m \u001b[0;34m\u001b[0m\u001b[0m\n\u001b[1;32m     19\u001b[0m     \u001b[0;31m# zero grad\u001b[0m\u001b[0;34m\u001b[0m\u001b[0;34m\u001b[0m\u001b[0;34m\u001b[0m\u001b[0m\n",
      "\u001b[0;32m~/.local/lib/python3.8/site-packages/torch/nn/functional.py\u001b[0m in \u001b[0;36mcross_entropy\u001b[0;34m(input, target, weight, size_average, ignore_index, reduce, reduction, label_smoothing)\u001b[0m\n\u001b[1;32m   2844\u001b[0m     \u001b[0;32mif\u001b[0m \u001b[0msize_average\u001b[0m \u001b[0;32mis\u001b[0m \u001b[0;32mnot\u001b[0m \u001b[0;32mNone\u001b[0m \u001b[0;32mor\u001b[0m \u001b[0mreduce\u001b[0m \u001b[0;32mis\u001b[0m \u001b[0;32mnot\u001b[0m \u001b[0;32mNone\u001b[0m\u001b[0;34m:\u001b[0m\u001b[0;34m\u001b[0m\u001b[0;34m\u001b[0m\u001b[0m\n\u001b[1;32m   2845\u001b[0m         \u001b[0mreduction\u001b[0m \u001b[0;34m=\u001b[0m \u001b[0m_Reduction\u001b[0m\u001b[0;34m.\u001b[0m\u001b[0mlegacy_get_string\u001b[0m\u001b[0;34m(\u001b[0m\u001b[0msize_average\u001b[0m\u001b[0;34m,\u001b[0m \u001b[0mreduce\u001b[0m\u001b[0;34m)\u001b[0m\u001b[0;34m\u001b[0m\u001b[0;34m\u001b[0m\u001b[0m\n\u001b[0;32m-> 2846\u001b[0;31m     \u001b[0;32mreturn\u001b[0m \u001b[0mtorch\u001b[0m\u001b[0;34m.\u001b[0m\u001b[0m_C\u001b[0m\u001b[0;34m.\u001b[0m\u001b[0m_nn\u001b[0m\u001b[0;34m.\u001b[0m\u001b[0mcross_entropy_loss\u001b[0m\u001b[0;34m(\u001b[0m\u001b[0minput\u001b[0m\u001b[0;34m,\u001b[0m \u001b[0mtarget\u001b[0m\u001b[0;34m,\u001b[0m \u001b[0mweight\u001b[0m\u001b[0;34m,\u001b[0m \u001b[0m_Reduction\u001b[0m\u001b[0;34m.\u001b[0m\u001b[0mget_enum\u001b[0m\u001b[0;34m(\u001b[0m\u001b[0mreduction\u001b[0m\u001b[0;34m)\u001b[0m\u001b[0;34m,\u001b[0m \u001b[0mignore_index\u001b[0m\u001b[0;34m,\u001b[0m \u001b[0mlabel_smoothing\u001b[0m\u001b[0;34m)\u001b[0m\u001b[0;34m\u001b[0m\u001b[0;34m\u001b[0m\u001b[0m\n\u001b[0m\u001b[1;32m   2847\u001b[0m \u001b[0;34m\u001b[0m\u001b[0m\n\u001b[1;32m   2848\u001b[0m \u001b[0;34m\u001b[0m\u001b[0m\n",
      "\u001b[0;31mValueError\u001b[0m: Expected input batch_size (1) to match target batch_size (0)."
     ]
    }
   ],
   "source": [
    "# train and sample\n",
    "print_every = 50\n",
    "loss_avg = 0\n",
    "for epoch in range(NUM_EPOCHS):\n",
    "    \n",
    "    loss = train_model(model=PoemGenerator, optimizer_type=OPTIMIZER, loss_function=LOSS_FUNCTION, learning_rate=LEARNING_RATE)       \n",
    "    loss_avg += loss\n",
    "    \n",
    "    if epoch % print_every == 0:\n",
    "        print('epoch',epoch)\n",
    "        print(\"Sample:\",sample(model=PoemGenerator,start_letter = 'A'), '\\n')"
   ]
  },
  {
   "cell_type": "code",
   "execution_count": null,
   "id": "2049ebc4",
   "metadata": {},
   "outputs": [],
   "source": []
  },
  {
   "cell_type": "code",
   "execution_count": null,
   "id": "cc9685ea",
   "metadata": {},
   "outputs": [],
   "source": []
  },
  {
   "cell_type": "code",
   "execution_count": null,
   "id": "8d6a506d",
   "metadata": {},
   "outputs": [],
   "source": []
  },
  {
   "cell_type": "code",
   "execution_count": null,
   "id": "26d00d15",
   "metadata": {},
   "outputs": [],
   "source": []
  },
  {
   "cell_type": "code",
   "execution_count": null,
   "id": "7a4ca1b2",
   "metadata": {},
   "outputs": [],
   "source": []
  },
  {
   "cell_type": "code",
   "execution_count": null,
   "id": "d422743b",
   "metadata": {},
   "outputs": [],
   "source": []
  },
  {
   "cell_type": "code",
   "execution_count": null,
   "id": "9dfcb6e8",
   "metadata": {},
   "outputs": [],
   "source": []
  },
  {
   "cell_type": "code",
   "execution_count": null,
   "id": "a61409a1",
   "metadata": {},
   "outputs": [],
   "source": []
  },
  {
   "cell_type": "code",
   "execution_count": null,
   "id": "f061ef11",
   "metadata": {},
   "outputs": [],
   "source": []
  },
  {
   "cell_type": "code",
   "execution_count": null,
   "id": "7fb8de6b",
   "metadata": {},
   "outputs": [],
   "source": []
  }
 ],
 "metadata": {
  "kernelspec": {
   "display_name": "Python 3 (ipykernel)",
   "language": "python",
   "name": "python3"
  },
  "language_info": {
   "codemirror_mode": {
    "name": "ipython",
    "version": 3
   },
   "file_extension": ".py",
   "mimetype": "text/x-python",
   "name": "python",
   "nbconvert_exporter": "python",
   "pygments_lexer": "ipython3",
   "version": "3.8.10"
  }
 },
 "nbformat": 4,
 "nbformat_minor": 5
}
